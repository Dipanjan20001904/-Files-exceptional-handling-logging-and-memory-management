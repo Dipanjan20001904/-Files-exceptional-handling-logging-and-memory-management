{
  "nbformat": 4,
  "nbformat_minor": 0,
  "metadata": {
    "colab": {
      "provenance": []
    },
    "kernelspec": {
      "name": "python3",
      "display_name": "Python 3"
    },
    "language_info": {
      "name": "python"
    }
  },
  "cells": [
    {
      "cell_type": "markdown",
      "source": [
        "# Files, exceptional handling, logging and memory management\n",
        "\n"
      ],
      "metadata": {
        "id": "3k7nQfT02HBN"
      }
    },
    {
      "cell_type": "markdown",
      "source": [
        "1. What is the difference between interpreted and compiled languages?\n",
        "\n",
        "- Interpreted languages\n",
        "\n",
        "Definition: Interpreted languages are translated into machine code line by line at runtime. This means that the code is executed as it is being read, without the need for a separate compilation step.\n",
        "\n",
        "Execution: An interpreter reads each line of code, converts it into machine code, and then executes it. This process is repeated for each line of code in the program.\n",
        "\n",
        "Examples: Python, R, JavaScript, and Ruby are popular examples of interpreted languages.\n",
        "\n",
        "- Compiled languages\n",
        "\n",
        "Definition: Compiled languages are converted into machine code before the program is run. This creates an executable file that can be run directly by the operating system.\n",
        "\n",
        "Execution: A compiler takes the entire source code and transforms it into machine code in one go. The resulting executable file can then be run without the need for the compiler or source code.\n",
        "\n",
        "Examples: C, C++, Java, and Go are common examples of compiled languages.\n",
        "\n",
        "\n",
        "2. What is exception handling in Python?\n",
        "\n",
        "- Exception handling is a mechanism in Python to gracefully manage errors that occur during the execution of a program. It allows us to anticipate and respond to potential errors, preventing our program from crashing abruptly.\n",
        "\n",
        "3.  What is the purpose of the finally block in exception handling?\n",
        "\n",
        "- The finally block is used to define a section of code that will be executed regardless of whether an exception is raised or not.\n",
        "\n",
        "Purpose:\n",
        "\n",
        "Cleanup: The primary purpose of the finally block is to ensure that cleanup actions are performed, such as closing files, releasing resources, or disconnecting from databases. These actions are crucial to prevent resource leaks and maintain system stability.\n",
        "\n",
        "Guaranteed Execution: The code within the finally block is guaranteed to be executed, even if an exception occurs and is not handled by an except block, or if the program exits using a return or break statement.\n",
        "\n",
        "4. What is logging in Python?\n",
        "\n",
        "\n",
        "- Logging is a means of tracking events that happen when our code run. It's a very useful tool in software development.\n",
        "\n",
        "Debugging: When our application doesn't work as expected, logs provide a trail of what happened.\n",
        "\n",
        "Monitoring: In a live system, we can monitor logs to understand usage patterns or to detect and fix problems.\n",
        "\n",
        "Auditing: Logs can help with compliance and security investigations.\n",
        "\n",
        "5. What is the significance of the __del__ method in Python?\n",
        "\n",
        "- The __del__ method is a special method in Python classes, also known as the destructor. It is called when an object is about to be destroyed or garbage collected.\n",
        "\n",
        "\n",
        "Resource Management and Cleanup:\n",
        "\n",
        "Purpose: The primary significance of the __del__ method is to provide a way to release resources held by an object before it is destroyed. This is crucial for preventing resource leaks and ensuring proper cleanup.\n",
        "Examples: Closing files, releasing network connections, or freeing up memory allocated to the object.\n",
        "Object Lifecycle Management:\n",
        "\n",
        "Finalization: The __del__ method acts as a finalization step for an object, allowing you to perform any necessary actions before the object is removed from memory.\n",
        "Example: Logging the deletion of an object, updating a counter, or notifying other parts of the system about the object's destruction.\n",
        "Caveats and Considerations:\n",
        "\n",
        "Non-deterministic Execution: The exact timing of when the __del__ method is called is not guaranteed, as it depends on the garbage collector. Therefore, it should not be relied upon for critical tasks or time-sensitive operations.\n",
        "Potential Errors: If an exception occurs within the __del__ method, it can be difficult to debug and handle, as it may happen during garbage collection.\n",
        "\n",
        "6. What is the difference between import and from ... import in Python?\n",
        "\n",
        "- import\n",
        "\n",
        "Imports the entire module as a single object. We then access the module's functions and classes using the dot operator (.).\n",
        "Syntax: import module_name\n",
        "\n",
        "- from ... import\n",
        "\n",
        "Imports specific functions, classes, or variables directly into your current namespace. You can then use them directly without the module name prefix.\n",
        "Syntax: from module_name import function_name, class_name, variable_name\n",
        "\n",
        "7.  How can you handle multiple exceptions in Python?\n",
        "\n",
        "- We can use multiple except blocks to handle different types of exceptions separately. Each except block specifies the type of exception it handles, and the code within the block is executed only if that specific exception is raised.\n",
        "\n",
        "8. What is the purpose of the with statement when handling files in Python?\n",
        "\n",
        "- The with statement in Python is used to simplify resource management, especially when dealing with files. It ensures that files are automatically closed, even if errors occur during file operations.\n",
        "\n",
        "Purpose:\n",
        "\n",
        "Automatic Resource Management: The primary purpose of the with statement is to automatically manage resources, such as files. When you open a file using with open(...) as file:, the file is automatically closed when the block of code within the with statement is exited, regardless of whether the code executed successfully or if an exception was raised. This prevents resource leaks and ensures that files are properly closed.\n",
        "\n",
        "Exception Handling: The with statement provides built-in exception handling. If an error occurs while working with the file inside the with block, the file is still guaranteed to be closed before the exception is propagated.\n",
        "\n",
        "Readability and Conciseness: Using the with statement makes your code more readable and concise by eliminating the need for explicit try-finally blocks to handle file closing.\n",
        "\n",
        "9. What is the difference between multithreading and multiprocessing?\n",
        "\n",
        "-  Multithreading\n",
        "\n",
        "Mechanism: Multithreading involves creating multiple threads of execution within a single process. These threads share the same memory space and resources of the process.\n",
        "\n",
        "Use Cases: Multithreading is well-suited for I/O-bound tasks, such as network requests or disk operations, where the program spends a lot of time waiting for external resources. Multiple threads can run concurrently, allowing the program to make progress while one thread is waiting.\n",
        "\n",
        "Limitations: Due to the Global Interpreter Lock (GIL) in Python, multithreading is not effective for CPU-bound tasks (heavy computations). The GIL ensures that only one thread can execute Python bytecode at a time, limiting the true parallelism that can be achieved.\n",
        "\n",
        "Example: Downloading multiple files concurrently, handling user interface events while processing data in the background.\n",
        "\n",
        "\n",
        "- Multiprocessing\n",
        "\n",
        "Mechanism: Multiprocessing involves creating multiple separate processes, each with its own memory space and resources. These processes run independently and can utilize multiple CPU cores.\n",
        "Use Cases: Multiprocessing is ideal for CPU-bound tasks, where the program needs to perform intensive computations. By distributing the workload across multiple processes, you can take advantage of multiple CPU cores and achieve true parallelism.\n",
        "\n",
        "Overhead: Multiprocessing has higher overhead compared to multithreading due to the need to create and manage separate processes. Communication between processes also requires more resources.\n",
        "\n",
        "Example: Performing complex calculations, image processing, scientific simulations.\n",
        "\n",
        "10. What are the advantages of using logging in a program?\n",
        "\n",
        "-  Logging is a valuable technique in software development that involves recording events and messages during the execution of a program. It offers several key advantages:\n",
        "\n",
        "a. Debugging and Troubleshooting:\n",
        "\n",
        "Identifying Errors: Logs provide a detailed record of program execution, making it easier to pinpoint the source of errors and unexpected behavior. By examining the sequence of events leading up to an error, developers can quickly diagnose and fix issues.\n",
        "Reproducing Issues: Logs can be used to reproduce problems that occur intermittently or in specific environments. By capturing the relevant information at the time of the issue, developers can recreate the scenario and investigate the root cause.\n",
        "\n",
        "b. Monitoring and System Analysis:\n",
        "\n",
        "Tracking Application Behavior: Logging allows you to monitor the overall health and performance of your application. By analyzing log data, you can identify bottlenecks, resource usage patterns, and potential areas for optimization.\n",
        "Real-time Insights: With real-time logging, you can gain immediate insights into the current state of your application. This is particularly useful for monitoring live systems and detecting anomalies as they happen.\n",
        "\n",
        "c. Auditing and Security:\n",
        "\n",
        "Security Analysis: Logs can be used to track security-related events, such as unauthorized access attempts or suspicious activities. This information is crucial for identifying and mitigating security threats.\n",
        "Compliance and Regulations: In many industries, logging is required for compliance with regulations and standards. Logs provide an audit trail that can be used to demonstrate adherence to security policies and data protection requirements.\n",
        "\n",
        "d. Data Analysis and Business Intelligence:\n",
        "\n",
        "User Behavior Analysis: Logs can capture user interactions and preferences, providing valuable data for understanding user behavior and improving user experience.\n",
        "Business Insights: By analyzing log data, businesses can gain insights into customer trends, product usage patterns, and other key metrics that can inform business decisions.\n",
        "\n",
        "e. Post-mortem Analysis:\n",
        "\n",
        "Understanding Failures: In the event of a system crash or critical failure, logs can be invaluable for understanding the sequence of events leading up to the incident. This information helps in identifying the root cause and preventing similar issues in the future.\n",
        "Recovery and Restoration: Logs can assist in the recovery and restoration of systems after a failure. By examining the log data, you can identify the state of the system before the failure and restore it to a consistent state.\n",
        "\n",
        "\n",
        "11. What is memory management in Python?  \n",
        "\n",
        "- Memory management in Python involves the allocation and deallocation of memory for objects in a program. It is handled automatically by the Python interpreter through a process called garbage collection.\n",
        "\n",
        "12. What are the basic steps involved in exception handling in Python?\n",
        "\n",
        "-  1. Try Block:\n",
        "\n",
        "Enclose the code that might raise an exception within a try block.\n",
        "This block is used to monitor for potential errors during execution.\n",
        "\n",
        "- 2. Except Block:\n",
        "\n",
        "Define one or more except blocks to handle specific types of exceptions.\n",
        "Each except block specifies the type of exception it handles.\n",
        "If an exception of the specified type occurs within the try block, the corresponding except block is executed.\n",
        "\n",
        "- 3. Optional Else Block:\n",
        "\n",
        "Include an optional else block after the except blocks.\n",
        "This block is executed only if no exceptions occur within the try block.\n",
        "\n",
        "- 4. Optional Finally Block:\n",
        "\n",
        "Add an optional finally block at the end.\n",
        "This block is always executed, regardless of whether an exception occurred or not.\n",
        "It is typically used for cleanup operations, such as closing files or releasing resources.\n",
        "\n",
        "13. Why is memory management important in Python?\n",
        "\n",
        "- Memory management is crucial in Python for several reasons:\n",
        "\n",
        "1. Efficient Resource Utilization:\n",
        "\n",
        "Programs often need to work with large amounts of data. Proper memory management ensures that memory is allocated and deallocated efficiently, preventing unnecessary resource consumption.\n",
        "By reclaiming memory that is no longer in use, the system can make it available for other tasks, improving overall performance.\n",
        "\n",
        "2. Preventing Memory Leaks:\n",
        "\n",
        "Memory leaks occur when a program fails to release memory that is no longer needed. This can lead to gradual depletion of available memory, eventually causing the program or system to crash.\n",
        "Python's automatic garbage collection helps prevent memory leaks by automatically reclaiming unused memory.\n",
        "\n",
        "3. Enhancing Program Stability:\n",
        "\n",
        "When memory is mismanaged, it can lead to program crashes or unpredictable behavior.\n",
        "Proper memory management ensures that objects are allocated and deallocated correctly, preventing memory corruption and enhancing program stability.\n",
        "\n",
        "4. Optimizing Performance:\n",
        "\n",
        "Efficient memory management can significantly improve program performance.\n",
        "By minimizing memory fragmentation and reducing the overhead of memory allocation and deallocation, programs can run faster and more smoothly.\n",
        "\n",
        "5. Avoiding System Instability:\n",
        "\n",
        "In extreme cases, severe memory leaks can lead to system instability, affecting other programs and potentially causing the entire system to crash.\n",
        "Proper memory management helps prevent such issues by ensuring that programs use memory responsibly.\n",
        "\n",
        "6. Facilitating Resource Sharing:\n",
        "\n",
        "In multi-threaded or multi-process environments, memory management is essential for allowing different parts of a program to share memory safely and efficiently.\n",
        "Python's memory management mechanisms help coordinate memory access and prevent conflicts between different threads or processes.\n",
        "\n",
        "14. What is the role of try and except in exception handling?\n",
        "\n",
        "- try block:\n",
        "\n",
        "The try block is used to enclose the code that might raise an exception.\n",
        "It acts as a monitor, watching for potential errors during the execution of the code within it.\n",
        "If an exception occurs inside the try block, the execution of the try block is immediately stopped, and the control is transferred to the appropriate except block.\n",
        "If no exception occurs within the try block, the code inside it is executed normally, and the except block are skipped.\n",
        "\n",
        "- except block:\n",
        "\n",
        "The except block is used to handle specific types of exceptions that might be raised within the preceding try block.\n",
        "It specifies the type of exception it can handle, and if an exception of that type occurs, the code inside the except block is executed.\n",
        "Multiple except blocks can be used to handle different types of exceptions separately.\n",
        "If an exception occurs that is not handled by any of the except blocks, the program will terminate and display an error message.\n",
        "\n",
        "15. How does Python's garbage collection system work?\n",
        "\n",
        "- Object Creation: When an object is created, Python allocates memory for it and assigns a reference count of 1.\n",
        "\n",
        "Reference Increment/Decrement: As the program executes, the reference count of an object is incremented or decremented based on how it is being used. When an object is assigned to a new variable, its reference count is incremented. When a variable referencing an object is reassigned or goes out of scope, the object's reference count is decremented.\n",
        "\n",
        "Reference Count Check: Periodically, Python checks the reference count of each object. If an object's reference count drops to zero, it is considered garbage and is eligible for collection.\n",
        "\n",
        "Garbage Collection: Python's garbage collector reclaims the memory occupied by garbage objects, making it available for reuse. This process involves identifying the garbage objects, freeing the memory they occupy, and updating internal data structures to reflect the changes.\n",
        "\n",
        "Cyclic Garbage Collection: In addition to reference counting, Python also employs a cyclic garbage collector to detect and collect objects involved in reference cycles. This collector identifies groups of objects that are only reachable from each other, forming a cycle. If such a cycle is detected, the objects within the cycle are considered garbage and are collected.\n",
        "\n",
        "16. What is the purpose of the else block in exception handling?\n",
        "\n",
        "- Purpose:\n",
        "\n",
        "Execute code when no exceptions occur: The primary purpose of the else block is to provide a section of code that you want to run only when the code in the try block completes successfully.\n",
        "\n",
        "Separate successful execution logic: It helps improve the clarity and structure of your code by separating the logic for handling exceptions from the logic for handling successful execution.\n",
        "\n",
        "17. What are the common logging levels in Python?\n",
        "\n",
        "- Here are the common logging levels in Python:\n",
        "\n",
        "DEBUG:\n",
        "\n",
        "\n",
        "Purpose: Used for detailed information, typically useful only when diagnosing problems. This level provides the most verbose output, including information about the program's internal state.\n",
        "\n",
        "INFO:\n",
        "\n",
        "Purpose: Used to confirm that things are working as expected. These messages provide general information about the program's progress and key events.\n",
        "\n",
        "WARNING:\n",
        "\n",
        "\n",
        "Purpose: Used to indicate something unexpected happened or indicative of some problem in the near future (e.g. ‘disk space low’). The software is still working as expected.\n",
        "\n",
        "ERROR:\n",
        "\n",
        "\n",
        "Purpose: Used to report errors that have occurred during program execution. These messages indicate that something has gone wrong but the program is still able to continue running.\n",
        "\n",
        "\n",
        "CRITICAL:\n",
        "\n",
        "\n",
        "Purpose: Used to report critical errors that may lead to the program's termination. These messages indicate a serious problem that requires immediate attention.\n",
        "\n",
        "18.  What is the difference between os.fork() and multiprocessing in Python?\n",
        "\n",
        "- os.fork():\n",
        "\n",
        "Mechanism: os.fork() is a system call that creates a new process by duplicating the current process. The new process (child process) is an almost identical copy of the parent process, including its memory space.\n",
        "\n",
        "Availability: os.fork() is available on Unix-like systems (Linux, macOS), but not on Windows.\n",
        "\n",
        "Memory Sharing: The child process initially shares memory with the parent process. This can be efficient but also leads to potential issues if not managed carefully.\n",
        "\n",
        "Global Interpreter Lock (GIL): Both the parent and child processes inherit the GIL, which means that true parallelism is not achieved for CPU-bound tasks. Only one thread can execute Python bytecode at a time, even with multiple processes.\n",
        "\n",
        "- multiprocessing:\n",
        "\n",
        "Mechanism: The multiprocessing module provides a higher-level interface for creating and managing processes. It creates new processes that have their own separate memory space.\n",
        "\n",
        "Cross-Platform: multiprocessing is designed to be cross-platform and works on Windows, Linux, and macOS.\n",
        "\n",
        "Memory Isolation: Processes created using multiprocessing have their own memory space, preventing accidental data corruption.\n",
        "\n",
        "Bypassing the GIL: multiprocessing can bypass the GIL, allowing true parallelism for CPU-bound tasks by utilizing multiple CPU cores.\n",
        "\n",
        "19. What is the importance of closing a file in Python?\n",
        "\n",
        "- 1. Releasing System Resources:\n",
        "\n",
        "File Descriptors: Each open file is associated with a file descriptor, which is a limited system resource. When you close a file, you release the file descriptor, making it available for other files. If you don't close files, you could eventually run out of file descriptors and your program might crash.\n",
        "Memory: Open files occupy memory. Closing files frees up that memory, making it available for other parts of your program or other programs running on your system.\n",
        "\n",
        "- 2. Data Integrity:\n",
        "\n",
        "Buffering: When you write data to a file, it's often buffered in memory before being actually written to disk. Closing the file ensures that any buffered data is flushed to disk, preventing data loss.\n",
        "Locks: Some file operations might acquire locks on the file to prevent conflicts with other processes. Closing the file releases these locks, allowing other processes to access the file.\n",
        "\n",
        "- 3. Avoiding Errors:\n",
        "\n",
        "Resource Conflicts: If you don't close a file and try to open it again in another part of your program, you might encounter errors due to resource conflicts.\n",
        "Unexpected Behavior: Open files can sometimes lead to unexpected behavior, especially if you're working with multiple files or processes. Closing files helps ensure predictable and consistent program execution.\n",
        "\n",
        "20.  What is the difference between file.read() and file.readline() in Python?\n",
        "\n",
        "- Both methods are used to read data from a file object in Python, but they differ in how they read and return the data.\n",
        "\n",
        "file.read()\n",
        "\n",
        "Reads the entire content: file.read() reads the entire content of the file from the current position to the end of the file.\n",
        "\n",
        "Returns as a single string: It returns the entire content as a single string.\n",
        "\n",
        "file.readline()\n",
        "\n",
        "Reads a single line: file.readline() reads a single line from the file, starting from the current position. It reads until it encounters a newline character (\\n) or the end of the file.\n",
        "\n",
        "Returns as a string: It returns the line as a string, including the newline character at the end (if present).\n",
        "\n",
        "21. What is the logging module in Python used for?\n",
        "\n",
        "- The logging module in Python is a powerful tool used for recording events and messages that occur during the execution of a program. These events and messages are referred to as \"log records.\" It's a way to keep track of what's happening in your code, especially useful for debugging, monitoring, and auditing.\n",
        "\n",
        "22. What is the os module in Python used for in file handling?\n",
        "\n",
        "- The os module in Python provides functions for interacting with the operating system, including file and directory operations. Here are some common ways it's used in file handling:\n",
        "\n",
        "1. File and Directory Manipulation:\n",
        "\n",
        "os.getcwd(): Get the current working directory.\n",
        "os.chdir(path): Change the current working directory to the specified path.\n",
        "os.listdir(path): List all files and directories in the specified path.\n",
        "os.mkdir(path): Create a new directory.\n",
        "os.makedirs(path, exist_ok=True): Create a directory and any necessary intermediate directories.\n",
        "os.rmdir(path): Remove an empty directory.\n",
        "os.removedirs(path): Remove a directory and any empty parent directories.\n",
        "os.rename(src, dst): Rename a file or directory from src to dst.\n",
        "os.remove(path): Delete a file.\n",
        "os.path.exists(path): Check if a file or directory exists.\n",
        "os.path.isfile(path): Check if a path is a regular file.\n",
        "os.path.isdir(path): Check if a path is a directory.\n",
        "os.path.join(path, *paths): Join one or more path components intelligently.\n",
        "os.path.abspath(path): Get the absolute path of a file or directory.\n",
        "os.path.basename(path): Get the base name of a file or directory (the final component).\n",
        "os.path.dirname(path): Get the directory name of a file or directory (everything before the final component).\n",
        "os.path.splitext(path): Split a path into a filename and extension.\n",
        "\n",
        "2. File Permissions and Ownership:\n",
        "\n",
        "os.chmod(path, mode): Change the permissions of a file or directory.\n",
        "os.chown(path, uid, gid): Change the ownership of a file or directory (Unix-like systems).\n",
        "\n",
        "3. File Size and Modification Time:\n",
        "\n",
        "os.path.getsize(path): Get the size of a file in bytes.\n",
        "os.path.getmtime(path): Get the last modification time of a file as a timestamp.\n",
        "os.path.getatime(path): Get the last access time of a file as a timestamp.\n",
        "os.path.getctime(path): Get the creation time of a file as a timestamp (Unix-like systems).\n",
        "\n",
        "4. Working with File Descriptors:\n",
        "\n",
        "os.open(path, flags): Open a file and return a file descriptor.\n",
        "os.read(fd, n): Read n bytes from a file descriptor.\n",
        "os.write(fd, data): Write data to a file descriptor.\n",
        "os.close(fd): Close a file descriptor.\n",
        "\n",
        "\n",
        "23.  What are the challenges associated with memory management in Python?\n",
        "\n",
        "-- 1. Overhead of Garbage Collection:\n",
        "\n",
        "Reasoning: Python's garbage collection process, while automatic, introduces overhead. It periodically checks for and reclaims unused memory, which can temporarily pause program execution.\n",
        "Impact: This can impact performance, especially in real-time or performance-critical applications.\n",
        "\n",
        "2. Difficulty in Fine-tuning Garbage Collection:\n",
        "\n",
        "Reasoning: While Python offers some options for customizing garbage collection behavior, fine-tuning it for optimal performance in specific scenarios can be complex.\n",
        "Impact: This can make it challenging to achieve the desired balance between memory usage and performance.\n",
        "\n",
        "3. Cyclic References and Memory Leaks:\n",
        "\n",
        "Reasoning: Circular references, where objects refer to each other in a cycle, can prevent garbage collection from reclaiming memory, leading to memory leaks.\n",
        "Impact: This can gradually consume available memory and eventually cause program crashes or instability.\n",
        "\n",
        "4. Limited Control over Memory Allocation:\n",
        "\n",
        "Reasoning: Python's memory management is largely automated, giving developers limited direct control over memory allocation and deallocation.\n",
        "Impact: This can be a constraint in situations where precise memory management is required, such as embedded systems or high-performance computing.\n",
        "\n",
        "5. Global Interpreter Lock (GIL):\n",
        "\n",
        "Reasoning: The GIL in CPython, the most common Python implementation, can limit the effectiveness of multithreading for CPU-bound tasks.\n",
        "Impact: This can prevent true parallelism and impact performance in multi-threaded applications.\n",
        "\n",
        "6. Memory Fragmentation:\n",
        "\n",
        "Reasoning: As objects are allocated and deallocated, memory can become fragmented, leading to inefficient memory usage.\n",
        "Impact: This can make it harder to find contiguous blocks of memory for larger objects and can impact overall performance.\n",
        "\n",
        "\n",
        "24. How do you raise an exception manually in Python?\n",
        "\n",
        "-  Import necessary modules: If we need to raise a specific type of exception, you might need to import the corresponding module first (e.g., import math).\n",
        "\n",
        "Identify the exception to raise: Determine the specific exception we want to raise. This should be a built-in exception class (e.g., ValueError, TypeError, ZeroDivisionError) or a custom exception class you have defined.\n",
        "\n",
        "Use the raise statement: To raise the exception, use the raise statement followed by the exception class and an optional error message.\n",
        "\n",
        "Optional error message: You can include an error message within the exception to provide more context about the error. This message can be accessed when handling the exception using the as keyword in the except block.\n",
        "\n",
        "\n",
        "25. Why is it important to use multithreading in certain applications?\n",
        "\n",
        "- 1. Improved Performance and Responsiveness:\n",
        "\n",
        "I/O-Bound Tasks: In applications with frequent input/output operations (like reading files or network requests), multithreading excels. While one thread waits for I/O, others can continue executing, preventing the program from stalling.\n",
        "Parallelism: For tasks that can be broken down into independent sub-tasks, multithreading allows these sub-tasks to run concurrently on different threads, potentially reducing overall execution time.\n",
        "Enhanced User Experience: In applications with user interfaces, multithreading keeps the UI responsive even during long-running operations. By offloading tasks to separate threads, the UI thread remains free to handle user interactions, avoiding freezes or delays.\n",
        "2. Resource Sharing and Efficiency:\n",
        "\n",
        "Shared Memory: Threads within a process share the same memory space, facilitating efficient communication and data exchange between threads. This eliminates the need for complex inter-process communication mechanisms.\n",
        "Reduced Overhead: Creating and managing threads is typically less resource-intensive than creating and managing separate processes. This leads to lower memory and CPU overhead, improving overall system efficiency.\n",
        "3. Simplified Concurrent Programming:\n",
        "\n",
        "Abstraction: Multithreading libraries and frameworks provide abstractions that simplify concurrent programming. This allows developers to focus on the logic of their tasks rather than the intricacies of thread management.\n",
        "Synchronization Mechanisms: Multithreading frameworks offer synchronization primitives (like locks and semaphores) that help coordinate access to shared resources, preventing race conditions and ensuring data consistency.\n",
        "4. Real-World Applications:\n",
        "\n",
        "Web Servers: Handle multiple client requests concurrently, improving server throughput and responsiveness.\n",
        "GUI Applications: Keep the user interface responsive while performing background tasks.\n",
        "Scientific Computing: Parallelize computations to reduce processing time.\n",
        "Multimedia Applications: Handle audio and video playback, decoding, and encoding concurrently.\n",
        "Game Development: Manage game logic, rendering, and physics calculations on separate threads.\n",
        "Considerations\n",
        "\n",
        "GIL (Global Interpreter Lock): In CPython (the standard Python implementation), the GIL can limit the performance benefits of multithreading for CPU-bound tasks. It allows only one thread to hold control of the Python interpreter at a time, preventing true parallelism. However, multithreading is still useful for I/O-bound tasks in CPython.\n",
        "Synchronization: Careful synchronization is crucial to avoid race conditions and ensure data consistency when multiple threads access shared resources.\n",
        "Complexity: Multithreading introduces complexity compared to single-threaded programming, making debugging and testing more challenging."
      ],
      "metadata": {
        "id": "sAC1s2Gc2SRj"
      }
    },
    {
      "cell_type": "code",
      "source": [
        "#1.  How can you open a file for writing in Python and write a string to it?\n",
        "\n",
        "file=open(\"example.txt\",\"w\")\n",
        "file.write(\"Hello! my name is Dipanjan Dutta\")\n",
        "file.close()\n"
      ],
      "metadata": {
        "id": "RazfxPx2Svl2"
      },
      "execution_count": 37,
      "outputs": []
    },
    {
      "cell_type": "code",
      "source": [
        "file.mode"
      ],
      "metadata": {
        "colab": {
          "base_uri": "https://localhost:8080/",
          "height": 36
        },
        "id": "peetOYxpRLGr",
        "outputId": "a8c25304-8a73-4195-a1c3-fb8995874efc"
      },
      "execution_count": 38,
      "outputs": [
        {
          "output_type": "execute_result",
          "data": {
            "text/plain": [
              "'w'"
            ],
            "application/vnd.google.colaboratory.intrinsic+json": {
              "type": "string"
            }
          },
          "metadata": {},
          "execution_count": 38
        }
      ]
    },
    {
      "cell_type": "code",
      "source": [
        "file=open(\"example.txt\",\"r\")\n",
        "file.read()"
      ],
      "metadata": {
        "colab": {
          "base_uri": "https://localhost:8080/",
          "height": 36
        },
        "id": "7W8SaKaoSkPN",
        "outputId": "807aff25-8a19-4116-b462-35e2666016e2"
      },
      "execution_count": 39,
      "outputs": [
        {
          "output_type": "execute_result",
          "data": {
            "text/plain": [
              "'Hello! my name is Dipanjan Dutta'"
            ],
            "application/vnd.google.colaboratory.intrinsic+json": {
              "type": "string"
            }
          },
          "metadata": {},
          "execution_count": 39
        }
      ]
    },
    {
      "cell_type": "code",
      "source": [
        "# 2. Write a Python program to read the contents of a file and print each line.\n",
        "\n",
        "file=open(\"example.txt\",\"w\")\n",
        "file.write('Hello! my name is Dipanjan Dutta. \\n')\n",
        "file.write(' I am living in Dankuni WestBengal.')\n",
        "file.close()"
      ],
      "metadata": {
        "id": "XInc6i5KTAYK"
      },
      "execution_count": 40,
      "outputs": []
    },
    {
      "cell_type": "code",
      "source": [
        "file=open(\"example.txt\",\"r\")\n",
        "file.read()"
      ],
      "metadata": {
        "colab": {
          "base_uri": "https://localhost:8080/",
          "height": 36
        },
        "id": "epDKdRreTiiS",
        "outputId": "b5bf54e2-67a5-4547-fb56-86f77fa154ec"
      },
      "execution_count": 41,
      "outputs": [
        {
          "output_type": "execute_result",
          "data": {
            "text/plain": [
              "'Hello! my name is Dipanjan Dutta. \\n I am living in Dankuni WestBengal.'"
            ],
            "application/vnd.google.colaboratory.intrinsic+json": {
              "type": "string"
            }
          },
          "metadata": {},
          "execution_count": 41
        }
      ]
    },
    {
      "cell_type": "code",
      "source": [
        "#3. How would you handle a case where the file doesn't exist while trying to open it for\n",
        "\n",
        "file=open(\"example.txt\",\"w\")\n",
        "file.write('Hello! my name is Dipanjan Dutta. \\n')\n",
        "file.write(' I am living in Dankuni WestBengal. \\n')\n",
        "file.write(' My age is 24.\\n')\n",
        "\n",
        "# we can't read the file because we haven't close the file till now.\n",
        "\n",
        "file.close()"
      ],
      "metadata": {
        "id": "PsQgKIAsTyW_"
      },
      "execution_count": 42,
      "outputs": []
    },
    {
      "cell_type": "code",
      "source": [
        "# now to read the file, we have to open the file in read mode 'r' .\n",
        "\n",
        "file=open(\"example.txt\",\"r\")\n",
        "file.read()"
      ],
      "metadata": {
        "colab": {
          "base_uri": "https://localhost:8080/",
          "height": 36
        },
        "id": "tp9WGvy7VGs2",
        "outputId": "0f136e99-232a-4747-f317-8e862b55cd20"
      },
      "execution_count": 43,
      "outputs": [
        {
          "output_type": "execute_result",
          "data": {
            "text/plain": [
              "'Hello! my name is Dipanjan Dutta. \\n I am living in Dankuni WestBengal. \\n My age is 24.\\n'"
            ],
            "application/vnd.google.colaboratory.intrinsic+json": {
              "type": "string"
            }
          },
          "metadata": {},
          "execution_count": 43
        }
      ]
    },
    {
      "cell_type": "code",
      "source": [
        "#4. Write a Python script that reads from one file and writes its content to another file\n",
        "\n",
        "file=open(\"example2.txt\",\"w\")\n",
        "file.close()"
      ],
      "metadata": {
        "id": "mtuyHXjnVL4d"
      },
      "execution_count": 44,
      "outputs": []
    },
    {
      "cell_type": "code",
      "source": [
        "import shutil"
      ],
      "metadata": {
        "id": "0AwC5OazjCsX"
      },
      "execution_count": 45,
      "outputs": []
    },
    {
      "cell_type": "code",
      "source": [
        "source_file = \"example.txt\"\n",
        "destination_file = \"example2.txt\"\n",
        "shutil.copyfile(source_file, destination_file)\n",
        "\n",
        "\n",
        "file=open(\"example2.txt\",\"r\")\n",
        "file.read()"
      ],
      "metadata": {
        "colab": {
          "base_uri": "https://localhost:8080/",
          "height": 36
        },
        "id": "L-AcROdpjFbG",
        "outputId": "8888344c-f0ee-4cde-d54b-fe942085f443"
      },
      "execution_count": 46,
      "outputs": [
        {
          "output_type": "execute_result",
          "data": {
            "text/plain": [
              "'Hello! my name is Dipanjan Dutta. \\n I am living in Dankuni WestBengal. \\n My age is 24.\\n'"
            ],
            "application/vnd.google.colaboratory.intrinsic+json": {
              "type": "string"
            }
          },
          "metadata": {},
          "execution_count": 46
        }
      ]
    },
    {
      "cell_type": "code",
      "source": [
        "# 5. How would you catch and handle division by zero error in Python?\n",
        "\n",
        "try:\n",
        "    result = 10 / 0\n",
        "except ZeroDivisionError:\n",
        "    print(\"Error: Division by zero occurred!\")"
      ],
      "metadata": {
        "id": "zXBI78mJltgj",
        "colab": {
          "base_uri": "https://localhost:8080/"
        },
        "outputId": "a2ca2570-dcff-439f-829d-ac0edd0a017d"
      },
      "execution_count": 47,
      "outputs": [
        {
          "output_type": "stream",
          "name": "stdout",
          "text": [
            "Error: Division by zero occurred!\n"
          ]
        }
      ]
    },
    {
      "cell_type": "code",
      "source": [
        "def divide(x, y):\n",
        "    try:\n",
        "        result = x / y\n",
        "        return result\n",
        "    except ZeroDivisionError:\n",
        "        print(\"Error: Division by zero occurred!\")\n",
        "        return None"
      ],
      "metadata": {
        "id": "20RBF5YZEelh"
      },
      "execution_count": 48,
      "outputs": []
    },
    {
      "cell_type": "code",
      "source": [
        "divide(40, 0)"
      ],
      "metadata": {
        "colab": {
          "base_uri": "https://localhost:8080/"
        },
        "id": "9Ql1lE-rEnQ_",
        "outputId": "0a85d345-7839-4310-e29e-7c12d8d462aa"
      },
      "execution_count": 49,
      "outputs": [
        {
          "output_type": "stream",
          "name": "stdout",
          "text": [
            "Error: Division by zero occurred!\n"
          ]
        }
      ]
    },
    {
      "cell_type": "code",
      "source": [
        "divide(40, 1)"
      ],
      "metadata": {
        "colab": {
          "base_uri": "https://localhost:8080/"
        },
        "id": "IX0mfYIeEvZH",
        "outputId": "dc0c1c79-240e-498d-9a43-d3a25a1eb4d8"
      },
      "execution_count": 50,
      "outputs": [
        {
          "output_type": "execute_result",
          "data": {
            "text/plain": [
              "40.0"
            ]
          },
          "metadata": {},
          "execution_count": 50
        }
      ]
    },
    {
      "cell_type": "code",
      "source": [
        "#6.  Write a Python program that logs an error message to a log file when a division by zero exception occurs.\n",
        "\n",
        "\n",
        "import logging"
      ],
      "metadata": {
        "id": "FFI5yug3EzAv"
      },
      "execution_count": 51,
      "outputs": []
    },
    {
      "cell_type": "code",
      "source": [
        "logging.basicConfig(filename='error.log', level=logging.ERROR, format='%(asctime)s - %(levelname)s - %(message)s')"
      ],
      "metadata": {
        "id": "eC0pfoiTFO74"
      },
      "execution_count": 52,
      "outputs": []
    },
    {
      "cell_type": "code",
      "source": [
        "def divide(x, y):\n",
        "    try:\n",
        "        result = x / y\n",
        "        return result\n",
        "    except ZeroDivisionError:\n",
        "        logging.error(\"Division by zero error occurred\")\n",
        "        return None"
      ],
      "metadata": {
        "id": "AfXoJpJEFiku"
      },
      "execution_count": 53,
      "outputs": []
    },
    {
      "cell_type": "code",
      "source": [
        "divide(40, 1)"
      ],
      "metadata": {
        "colab": {
          "base_uri": "https://localhost:8080/"
        },
        "id": "4d7JJysNFoCO",
        "outputId": "ff7d9e9d-175d-44bd-8fa4-60786d70d6f1"
      },
      "execution_count": 54,
      "outputs": [
        {
          "output_type": "execute_result",
          "data": {
            "text/plain": [
              "40.0"
            ]
          },
          "metadata": {},
          "execution_count": 54
        }
      ]
    },
    {
      "cell_type": "code",
      "source": [
        "divide(40, 0)"
      ],
      "metadata": {
        "colab": {
          "base_uri": "https://localhost:8080/"
        },
        "id": "n6vwbTwLFt0W",
        "outputId": "6af64b61-263c-4e4f-9e03-b0e19ff2e3f3"
      },
      "execution_count": 55,
      "outputs": [
        {
          "output_type": "stream",
          "name": "stderr",
          "text": [
            "ERROR:root:Division by zero error occurred\n"
          ]
        }
      ]
    },
    {
      "cell_type": "code",
      "source": [
        "num1 = 10\n",
        "num2 = 0\n",
        "\n",
        "result = divide(num1, num2)\n",
        "\n",
        "if result is None:\n",
        "    print(\"Error: Division by zero. Check the error log for details.\")\n",
        "else:\n",
        "    print(\"Result:\", result)"
      ],
      "metadata": {
        "colab": {
          "base_uri": "https://localhost:8080/"
        },
        "id": "XZtpxqhAF9JV",
        "outputId": "a874f46d-9677-4e79-9f8e-9c5a6f2dfcba"
      },
      "execution_count": 56,
      "outputs": [
        {
          "output_type": "stream",
          "name": "stderr",
          "text": [
            "ERROR:root:Division by zero error occurred\n"
          ]
        },
        {
          "output_type": "stream",
          "name": "stdout",
          "text": [
            "Error: Division by zero. Check the error log for details.\n"
          ]
        }
      ]
    },
    {
      "cell_type": "code",
      "source": [
        "num1 = 10\n",
        "num2 = 2\n",
        "\n",
        "result = divide(num1, num2)\n",
        "\n",
        "if result is None:\n",
        "    print(\"Error: Division by zero. Check the error log for details.\")\n",
        "else:\n",
        "    print(\"Result:\", result)"
      ],
      "metadata": {
        "colab": {
          "base_uri": "https://localhost:8080/"
        },
        "id": "jzS5broKGWaO",
        "outputId": "2f0f5651-fca7-4d59-a25f-e73d55f93941"
      },
      "execution_count": 57,
      "outputs": [
        {
          "output_type": "stream",
          "name": "stdout",
          "text": [
            "Result: 5.0\n"
          ]
        }
      ]
    },
    {
      "cell_type": "code",
      "source": [
        "\n",
        "#7. How do you log information at different levels (INFO, ERROR, WARNING) in Python using the logging module?\n",
        "\n",
        "\n",
        "logging.basicConfig(\n",
        "    filename='my_log_file.log',\n",
        "    level=logging.DEBUG,  # Set the minimum logging level (DEBUG, INFO, WARNING, ERROR, CRITICAL)\n",
        "    format='%(asctime)s - %(levelname)s - %(message)s') # Define the log message format"
      ],
      "metadata": {
        "id": "N6vBzuSDGZYN"
      },
      "execution_count": 58,
      "outputs": []
    },
    {
      "cell_type": "code",
      "source": [
        "logging.debug('This is a debug message.')\n",
        "logging.info('This is an informational message.')\n",
        "logging.warning('This is a warning message.')\n",
        "logging.error('This is an error message.')\n",
        "logging.critical('This is a critical message.')"
      ],
      "metadata": {
        "colab": {
          "base_uri": "https://localhost:8080/"
        },
        "id": "y3RdAFvhG4aV",
        "outputId": "125d23f1-30bf-40f7-980b-4d0c0e65b31f"
      },
      "execution_count": 59,
      "outputs": [
        {
          "output_type": "stream",
          "name": "stderr",
          "text": [
            "WARNING:root:This is a warning message.\n",
            "ERROR:root:This is an error message.\n",
            "CRITICAL:root:This is a critical message.\n"
          ]
        }
      ]
    },
    {
      "cell_type": "code",
      "source": [
        "# 8. Write a program to handle a file opening error using exception handling?\n",
        "\n",
        "def read_file(filename):\n",
        "    try:\n",
        "        with open(filename, 'r') as file:\n",
        "            contents = file.read()\n",
        "            print(contents)\n",
        "    except FileNotFoundError:\n",
        "        print(f\"Error: File '{filename}' not found.\")\n",
        "    except FileNotOpeningError:\n",
        "        print(f\"Error: Could not open or read file '{filename}'.\")\n",
        "    except Exception as e:\n",
        "        print(f\"An unexpected error occurred: {e}\")\n"
      ],
      "metadata": {
        "id": "eWtFnDu7HQ1V"
      },
      "execution_count": 60,
      "outputs": []
    },
    {
      "cell_type": "code",
      "source": [
        "filename = \"my_file.txt\"  # Replace with the actual filename\n",
        "read_file(filename)"
      ],
      "metadata": {
        "colab": {
          "base_uri": "https://localhost:8080/"
        },
        "id": "WD2eFBxkH1Td",
        "outputId": "fec0d20e-9ec9-4d6c-b4bb-c151ab4bba53"
      },
      "execution_count": 61,
      "outputs": [
        {
          "output_type": "stream",
          "name": "stdout",
          "text": [
            "Error: File 'my_file.txt' not found.\n"
          ]
        }
      ]
    },
    {
      "cell_type": "code",
      "source": [
        "filename = \"example2.txt\"  # Replace with the actual filename\n",
        "read_file(filename)"
      ],
      "metadata": {
        "colab": {
          "base_uri": "https://localhost:8080/"
        },
        "id": "j6TKe51BH6ID",
        "outputId": "12752a7f-c1ae-4cea-994e-37d648189d99"
      },
      "execution_count": 62,
      "outputs": [
        {
          "output_type": "stream",
          "name": "stdout",
          "text": [
            "Hello! my name is Dipanjan Dutta. \n",
            " I am living in Dankuni WestBengal. \n",
            " My age is 24.\n",
            "\n"
          ]
        }
      ]
    },
    {
      "cell_type": "code",
      "source": [
        "#9. How can you read a file line by line and store its content in a list in Python?\n",
        "\n",
        "def read_file_to_list(filename):\n",
        "  try:\n",
        "    with open(filename, 'r') as file:\n",
        "      lines = file.readlines()  # Read all lines into a list\n",
        "      return lines\n",
        "  except FileNotFoundError:\n",
        "    print(f\"Error: File '{filename}' not found.\")\n",
        "    return []  # Return an empty list if file not found\n",
        "  except Exception as e:\n",
        "    print(f\"An unexpected error occurred: {e}\")\n",
        "    return []\n"
      ],
      "metadata": {
        "id": "RnDKzwHDIN8T"
      },
      "execution_count": 63,
      "outputs": []
    },
    {
      "cell_type": "code",
      "source": [
        "filename = \"example2.txt\"\n",
        "file_content = read_file_to_list(filename)\n",
        "print(file_content)"
      ],
      "metadata": {
        "colab": {
          "base_uri": "https://localhost:8080/"
        },
        "id": "haX8voRCJEUK",
        "outputId": "c6e644b7-314d-409a-b0ff-c829b00391e1"
      },
      "execution_count": 64,
      "outputs": [
        {
          "output_type": "stream",
          "name": "stdout",
          "text": [
            "['Hello! my name is Dipanjan Dutta. \\n', ' I am living in Dankuni WestBengal. \\n', ' My age is 24.\\n']\n"
          ]
        }
      ]
    },
    {
      "cell_type": "code",
      "source": [
        "filename = \"my_file.txt\"\n",
        "file_content = read_file_to_list(filename)\n",
        "print(file_content)"
      ],
      "metadata": {
        "colab": {
          "base_uri": "https://localhost:8080/"
        },
        "id": "0A9_c6CAJKn6",
        "outputId": "d289b400-3b19-4d0a-d9e3-e8f82bbc0049"
      },
      "execution_count": 65,
      "outputs": [
        {
          "output_type": "stream",
          "name": "stdout",
          "text": [
            "Error: File 'my_file.txt' not found.\n",
            "[]\n"
          ]
        }
      ]
    },
    {
      "cell_type": "code",
      "source": [
        "#10. How can you append data to an existing file in Python?\n",
        "\n",
        "file = open(\"example2.txt\", \"a\")  # \"a\" is used for append something\n",
        "file.write(\"This is appended text.\\n\")\n",
        "file.close()"
      ],
      "metadata": {
        "id": "hO4DB-TfJW0K"
      },
      "execution_count": 66,
      "outputs": []
    },
    {
      "cell_type": "code",
      "source": [
        "file = open(\"example2.txt\", \"r\")\n",
        "file.read()"
      ],
      "metadata": {
        "colab": {
          "base_uri": "https://localhost:8080/",
          "height": 36
        },
        "id": "oj8xS6XcK6eA",
        "outputId": "84956971-f00d-4809-882b-0f2904344659"
      },
      "execution_count": 67,
      "outputs": [
        {
          "output_type": "execute_result",
          "data": {
            "text/plain": [
              "'Hello! my name is Dipanjan Dutta. \\n I am living in Dankuni WestBengal. \\n My age is 24.\\nThis is appended text.\\n'"
            ],
            "application/vnd.google.colaboratory.intrinsic+json": {
              "type": "string"
            }
          },
          "metadata": {},
          "execution_count": 67
        }
      ]
    },
    {
      "cell_type": "code",
      "source": [
        "# 11. F Write a Python program that uses a try-except block to handle an error when attempting to access a dictionary key that doesn't exist.\n",
        "\n",
        "my_dict = {'a': 1, 'b': 2, 'c': 3} #keys that exist a,b,c\n",
        "\n",
        "try:\n",
        "    value = my_dict['d']  # Accessing a non-existent key 'd'\n",
        "except KeyError:\n",
        "    print(\"Error: Key not found in the dictionary.\")\n",
        "\n",
        "\n"
      ],
      "metadata": {
        "colab": {
          "base_uri": "https://localhost:8080/"
        },
        "id": "Xz2ck3cHLIKx",
        "outputId": "d75c314d-bc1e-4490-d0f6-dd798215de7f"
      },
      "execution_count": 68,
      "outputs": [
        {
          "output_type": "stream",
          "name": "stdout",
          "text": [
            "Error: Key not found in the dictionary.\n"
          ]
        }
      ]
    },
    {
      "cell_type": "code",
      "source": [
        "# 12. Write a program that demonstrates using multiple except blocks to handle different types of exceptions?\n",
        "\n",
        "try:\n",
        "    num1 = int(input(\"Enter a number: \"))\n",
        "    num2 = int(input(\"Enter another number: \"))\n",
        "    result = num1 / num2\n",
        "    print(\"Result:\", result)\n",
        "except ZeroDivisionError:\n",
        "  print(\"Error: Division by zero is not allowed.\") # Handle division by zero error\n",
        "\n",
        "except ValueError:\n",
        "  print(\"Error: Please enter valid numbers.\") # Handle invalid input (non-numeric) error\n",
        "\n",
        "except Exception as e:\n",
        "  print(\"An unexpected error occurred:\", e)   # Handle any other unexpected exceptions\n",
        "\n"
      ],
      "metadata": {
        "colab": {
          "base_uri": "https://localhost:8080/"
        },
        "id": "QobOdQC2Mawe",
        "outputId": "95689d99-6539-4608-f815-87a82763b502"
      },
      "execution_count": 35,
      "outputs": [
        {
          "output_type": "stream",
          "name": "stdout",
          "text": [
            "Enter a number: 10\n",
            "Enter another number: 2\n",
            "Result: 5.0\n"
          ]
        }
      ]
    },
    {
      "cell_type": "code",
      "source": [
        "try:\n",
        "    num1 = int(input(\"Enter a number: \"))\n",
        "    num2 = int(input(\"Enter another number: \"))\n",
        "    result = num1 / num2\n",
        "    print(\"Result:\", result)\n",
        "except ZeroDivisionError:\n",
        "  print(\"Error: Division by zero is not allowed.\") # Handle division by zero error\n",
        "\n",
        "except ValueError:\n",
        "  print(\"Error: Please enter valid numbers.\") # Handle invalid input (non-numeric) error\n",
        "\n",
        "except Exception as e:\n",
        "  print(\"An unexpected error occurred:\", e)   # Handle any other unexpected exceptions\\"
      ],
      "metadata": {
        "id": "qwiQX9xfM_Mu",
        "colab": {
          "base_uri": "https://localhost:8080/"
        },
        "outputId": "959b0f6b-de42-4741-859d-2f7aa75e309b"
      },
      "execution_count": 34,
      "outputs": [
        {
          "output_type": "stream",
          "name": "stdout",
          "text": [
            "Enter a number: 10\n",
            "Enter another number: 0\n",
            "Error: Division by zero is not allowed.\n"
          ]
        }
      ]
    },
    {
      "cell_type": "code",
      "source": [
        "try:\n",
        "    num1 = int(input(\"Enter a number: \"))\n",
        "    num2 = int(input(\"Enter another number: \"))\n",
        "    result = num1 / num2\n",
        "    print(\"Result:\", result)\n",
        "except ZeroDivisionError:\n",
        "  print(\"Error: Division by zero is not allowed.\") # Handle division by zero error\n",
        "\n",
        "except ValueError:\n",
        "  print(\"Error: Please enter valid numbers.\") # Handle invalid input (non-numeric) error\n",
        "\n",
        "except Exception as e:\n",
        "  print(\"An unexpected error occurred:\", e)   # Handle any other unexpected exceptions"
      ],
      "metadata": {
        "id": "irQOM6D8NFGY",
        "colab": {
          "base_uri": "https://localhost:8080/"
        },
        "outputId": "697c56b3-e209-4010-ba11-62292aefb5e0"
      },
      "execution_count": null,
      "outputs": [
        {
          "output_type": "stream",
          "name": "stdout",
          "text": [
            "Enter a number: 10\n",
            "Enter another number: w\n",
            "Error: Please enter valid numbers.\n"
          ]
        }
      ]
    },
    {
      "cell_type": "code",
      "source": [
        "#13. How would you check if a file exists before attempting to read it in Python?\n",
        "\n",
        "import os\n",
        "\n",
        "def file_exists(filename):\n",
        "  return os.path.exists(filename)"
      ],
      "metadata": {
        "id": "hi12PVnNPbcx"
      },
      "execution_count": 72,
      "outputs": []
    },
    {
      "cell_type": "code",
      "source": [
        "filename = \"my_file.txt\"\n",
        "\n",
        "if file_exists(filename):\n",
        "    # File exists, proceed with reading\n",
        "    with open(filename, 'r') as file:\n",
        "        # Read file contents\n",
        "        contents = file.read()\n",
        "        print(contents)\n",
        "else:\n",
        "    print(f\"Error: File '{filename}' not found.\")"
      ],
      "metadata": {
        "colab": {
          "base_uri": "https://localhost:8080/"
        },
        "id": "Ru5jrN5mQLMB",
        "outputId": "7c86687b-3d3a-462c-db73-9529256bf594"
      },
      "execution_count": 73,
      "outputs": [
        {
          "output_type": "stream",
          "name": "stdout",
          "text": [
            "Error: File 'my_file.txt' not found.\n"
          ]
        }
      ]
    },
    {
      "cell_type": "code",
      "source": [
        "filename = \"example2.txt\"\n",
        "\n",
        "if file_exists(filename):\n",
        "    # File exists, proceed with reading\n",
        "    with open(filename, 'r') as file:\n",
        "        # Read file contents\n",
        "        contents = file.read()\n",
        "        print(contents)\n",
        "else:\n",
        "    print(f\"Error: File '{filename}' not found.\")"
      ],
      "metadata": {
        "colab": {
          "base_uri": "https://localhost:8080/"
        },
        "id": "zTjjIS6LQS-J",
        "outputId": "e338f52d-c7b6-4656-9432-307b1d8fa8fe"
      },
      "execution_count": 74,
      "outputs": [
        {
          "output_type": "stream",
          "name": "stdout",
          "text": [
            "Hello! my name is Dipanjan Dutta. \n",
            " I am living in Dankuni WestBengal. \n",
            " My age is 24.\n",
            "This is appended text.\n",
            "\n"
          ]
        }
      ]
    },
    {
      "cell_type": "code",
      "source": [
        "# 14. Write a program that uses the logging module to log both informational and  error messages.\n",
        "\n",
        "\n",
        "import logging\n",
        "\n",
        "\n",
        "logging.basicConfig(\n",
        "    filename='app.log',  # Specify the log file name\n",
        "    level=logging.INFO,  # Set the minimum logging level (INFO or higher)\n",
        "    format='%(asctime)s - %(levelname)s - %(message)s')  # Define the log message format\n",
        "\n",
        "\n",
        "# Log an informational message\n",
        "logging.info('Application started successfully.')\n",
        "\n",
        "try:\n",
        "   result = 10 / 0  # Division by zero to trigger an error\n",
        "except ZeroDivisionError:\n",
        "    logging.error('Error: Division by zero occurred.')\n",
        "\n",
        "logging.info('Application execution completed.')"
      ],
      "metadata": {
        "colab": {
          "base_uri": "https://localhost:8080/"
        },
        "id": "EQU2325TQfEi",
        "outputId": "2642d612-7a7c-4260-8746-0b509c2d90eb"
      },
      "execution_count": null,
      "outputs": [
        {
          "output_type": "stream",
          "name": "stderr",
          "text": [
            "ERROR:root:Error: Division by zero occurred.\n"
          ]
        }
      ]
    },
    {
      "cell_type": "code",
      "source": [
        "# 15. Write a Python program that prints the content of a file and handles the case when the file is empty.\n",
        "\n",
        "def print_file_content(filename):\n",
        "  try:\n",
        "        with open(filename, 'r') as file:\n",
        "            content = file.read()\n",
        "            if content:\n",
        "                print(content)\n",
        "            else:\n",
        "                print(f\"The file '{filename}' is empty.\")\n",
        "  except FileNotFoundError:\n",
        "    print(f\"Error: File '{filename}' not found.\")\n",
        "\n",
        "  except Exception as e:\n",
        "    print(f\"An unexpected error occurred: {e}\")\n",
        "\n",
        "\n",
        "\n"
      ],
      "metadata": {
        "id": "-Nmd_sa_Rph6"
      },
      "execution_count": 75,
      "outputs": []
    },
    {
      "cell_type": "code",
      "source": [
        "filename = \"my_file.txt\"\n",
        "print_file_content(filename)"
      ],
      "metadata": {
        "colab": {
          "base_uri": "https://localhost:8080/"
        },
        "id": "AqgdB0j7UEO7",
        "outputId": "ae4b0fdd-a763-439d-8370-49e4a62988f6"
      },
      "execution_count": 76,
      "outputs": [
        {
          "output_type": "stream",
          "name": "stdout",
          "text": [
            "Error: File 'my_file.txt' not found.\n"
          ]
        }
      ]
    },
    {
      "cell_type": "code",
      "source": [
        "filename = \"example.txt\"\n",
        "print_file_content(filename)"
      ],
      "metadata": {
        "colab": {
          "base_uri": "https://localhost:8080/"
        },
        "id": "tU0hPRVkVqdj",
        "outputId": "750fdc1a-afc0-4b4d-aecd-16341464693c"
      },
      "execution_count": 77,
      "outputs": [
        {
          "output_type": "stream",
          "name": "stdout",
          "text": [
            "Hello! my name is Dipanjan Dutta. \n",
            " I am living in Dankuni WestBengal. \n",
            " My age is 24.\n",
            "\n"
          ]
        }
      ]
    },
    {
      "cell_type": "code",
      "source": [
        "# 16.  Demonstrate how to use memory profiling to check the memory usage of a small program?\n",
        "\n",
        "\n",
        "!pip install memory_profiler==0.61.0"
      ],
      "metadata": {
        "colab": {
          "base_uri": "https://localhost:8080/"
        },
        "id": "KyfVf9aPV7fD",
        "outputId": "41710491-3c66-422a-e423-99726ae14ef6"
      },
      "execution_count": 78,
      "outputs": [
        {
          "output_type": "stream",
          "name": "stdout",
          "text": [
            "Collecting memory_profiler==0.61.0\n",
            "  Downloading memory_profiler-0.61.0-py3-none-any.whl.metadata (20 kB)\n",
            "Requirement already satisfied: psutil in /usr/local/lib/python3.11/dist-packages (from memory_profiler==0.61.0) (5.9.5)\n",
            "Downloading memory_profiler-0.61.0-py3-none-any.whl (31 kB)\n",
            "Installing collected packages: memory_profiler\n",
            "Successfully installed memory_profiler-0.61.0\n"
          ]
        }
      ]
    },
    {
      "cell_type": "code",
      "source": [
        "file=open(\"my_script.py\",\"w\")\n",
        "file.write\n",
        "\n",
        "from memory_profiler import profile\n",
        "\n",
        "@profile\n",
        "def my_function():\n",
        "    a = [1] * (10**6)\n",
        "    return a\n",
        "\n",
        "file.close()\n",
        "\n"
      ],
      "metadata": {
        "id": "9iRZ0c4mWGRr"
      },
      "execution_count": 79,
      "outputs": []
    },
    {
      "cell_type": "code",
      "source": [
        "!mprof run my_script.py"
      ],
      "metadata": {
        "colab": {
          "base_uri": "https://localhost:8080/"
        },
        "id": "IOlUyzF1XebM",
        "outputId": "c201a30c-356e-4dec-ed96-839d6306f1d2"
      },
      "execution_count": 80,
      "outputs": [
        {
          "output_type": "stream",
          "name": "stdout",
          "text": [
            "mprof: Sampling memory every 0.1s\n",
            "running new process\n",
            "running as a Python program...\n"
          ]
        }
      ]
    },
    {
      "cell_type": "code",
      "source": [
        "!mprof plot"
      ],
      "metadata": {
        "colab": {
          "base_uri": "https://localhost:8080/"
        },
        "id": "IaHR0nD2Zekm",
        "outputId": "58630068-ba74-4003-ec48-ac8eef46995d"
      },
      "execution_count": 81,
      "outputs": [
        {
          "output_type": "stream",
          "name": "stdout",
          "text": [
            "Using last profile data.\n",
            "Figure(1260x540)\n"
          ]
        }
      ]
    },
    {
      "cell_type": "code",
      "source": [
        "# 17. Write a Python program to create and write a list of numbers to a file, one number per line.\n",
        "\n",
        "file=open(\"numbers2.txt\",\"w\")\n",
        "numbers = [1, 2, 3, 4, 5]\n",
        "for i in numbers:\n",
        "  file.write(str(i) + '\\n')\n",
        "\n",
        "\n",
        "file.close()\n",
        "\n",
        "\n",
        "file=open(\"numbers2.txt\",\"r\")\n",
        "file.read()"
      ],
      "metadata": {
        "id": "wAS7_kkTfW4w",
        "colab": {
          "base_uri": "https://localhost:8080/",
          "height": 36
        },
        "outputId": "b0e679b7-cb03-46ce-e39c-360ed7db3403"
      },
      "execution_count": 87,
      "outputs": [
        {
          "output_type": "execute_result",
          "data": {
            "text/plain": [
              "'1\\n2\\n3\\n4\\n5\\n'"
            ],
            "application/vnd.google.colaboratory.intrinsic+json": {
              "type": "string"
            }
          },
          "metadata": {},
          "execution_count": 87
        }
      ]
    },
    {
      "cell_type": "code",
      "source": [
        "# 18.  How would you implement a basic logging setup that logs to a file with rotation after 1MB.\n",
        "\n",
        "import logging\n",
        "import logging.handlers\n",
        "\n",
        "logger = logging.getLogger('my_logger')\n",
        "logger.setLevel(logging.DEBUG)\n",
        "\n",
        "handler = logging.handlers.RotatingFileHandler(\n",
        "    'my_log.log',  # Log file name\n",
        "    maxBytes=1024 * 1024,  # 1MB\n",
        "    backupCount=5) # Keep 5 backup files\n",
        "\n",
        "formatter = logging.Formatter('%(asctime)s - %(levelname)s - %(message)s')\n",
        "handler.setFormatter(formatter)\n",
        "logger.addHandler(handler)\n",
        "\n",
        "logger.debug('This is a debug message.')\n",
        "logger.info('This is an info message.')\n",
        "logger.warning('This is a warning message.')\n",
        "logger.error('This is an error message.')\n",
        "logger.critical('This is a critical message.')\n"
      ],
      "metadata": {
        "colab": {
          "base_uri": "https://localhost:8080/"
        },
        "id": "T7t6R1IegMhY",
        "outputId": "fcb06b6a-1ec2-40b7-cd8f-1ed8f68f6175"
      },
      "execution_count": 88,
      "outputs": [
        {
          "output_type": "stream",
          "name": "stderr",
          "text": [
            "DEBUG:my_logger:This is a debug message.\n",
            "INFO:my_logger:This is an info message.\n",
            "WARNING:my_logger:This is a warning message.\n",
            "ERROR:my_logger:This is an error message.\n",
            "CRITICAL:my_logger:This is a critical message.\n"
          ]
        }
      ]
    },
    {
      "cell_type": "code",
      "source": [
        "# 19. Write a program that handles both IndexError and KeyError using a try-except block\n",
        "\n",
        "def access_data(data_structure, index_or_key):\n",
        "    try:\n",
        "        # Attempt to access data using the provided index or key\n",
        "        value = data_structure[index_or_key]\n",
        "        print(\"Value:\", value)\n",
        "    except IndexError:\n",
        "        print(\"Error: Invalid index. The list or sequence is out of bounds.\")\n",
        "    except KeyError:\n",
        "        print(\"Error: Invalid key. The key does not exist in the dictionary.\")\n",
        "    except TypeError:\n",
        "        print(\"Error: Invalid data structure or index/key type.\")"
      ],
      "metadata": {
        "id": "MEN9yESYhC6i"
      },
      "execution_count": 89,
      "outputs": []
    },
    {
      "cell_type": "code",
      "source": [
        "my_list = [1, 2, 3]\n",
        "access_data(my_list, 2)"
      ],
      "metadata": {
        "colab": {
          "base_uri": "https://localhost:8080/"
        },
        "id": "KqKYOk0DmEh1",
        "outputId": "76f503a0-e6a2-4bc0-9873-fd6a26915a9d"
      },
      "execution_count": 90,
      "outputs": [
        {
          "output_type": "stream",
          "name": "stdout",
          "text": [
            "Value: 3\n"
          ]
        }
      ]
    },
    {
      "cell_type": "code",
      "source": [
        "my_list = [1, 2, 3]\n",
        "access_data(my_list, 3)"
      ],
      "metadata": {
        "colab": {
          "base_uri": "https://localhost:8080/"
        },
        "id": "6tKGblekmIHb",
        "outputId": "719b61ae-f8db-4280-da69-d24a9d77eb0a"
      },
      "execution_count": 91,
      "outputs": [
        {
          "output_type": "stream",
          "name": "stdout",
          "text": [
            "Error: Invalid index. The list or sequence is out of bounds.\n"
          ]
        }
      ]
    },
    {
      "cell_type": "code",
      "source": [
        "my_dict = {'a': 1, 'b': 2, 'c': 3}\n",
        "access_data(my_dict, 'c')"
      ],
      "metadata": {
        "colab": {
          "base_uri": "https://localhost:8080/"
        },
        "id": "1FQliefMmSXT",
        "outputId": "2895ee5e-54b3-40a7-d788-03ccf3545842"
      },
      "execution_count": 92,
      "outputs": [
        {
          "output_type": "stream",
          "name": "stdout",
          "text": [
            "Value: 3\n"
          ]
        }
      ]
    },
    {
      "cell_type": "code",
      "source": [
        "my_dict = {'a': 1, 'b': 2, 'c': 3}\n",
        "access_data(my_dict, 'd')"
      ],
      "metadata": {
        "colab": {
          "base_uri": "https://localhost:8080/"
        },
        "id": "PtdG9czKmajs",
        "outputId": "6fa9bcdd-f0fe-4593-caa6-026812029719"
      },
      "execution_count": 93,
      "outputs": [
        {
          "output_type": "stream",
          "name": "stdout",
          "text": [
            "Error: Invalid key. The key does not exist in the dictionary.\n"
          ]
        }
      ]
    },
    {
      "cell_type": "code",
      "source": [
        "#20.  How would you open a file and read its contents using a context manager in Python?\n",
        "with open('example3.txt', 'w') as file:\n",
        "    file.write(\"Hello, world!\\n\")\n",
        "    file.write(\"This is my 1st line.\\n\")"
      ],
      "metadata": {
        "id": "xeYPUq5ImdHT"
      },
      "execution_count": 100,
      "outputs": []
    },
    {
      "cell_type": "code",
      "source": [
        "# now we can read file with out closing it\n",
        "\n",
        "with open('example3.txt', 'r') as file:\n",
        "    contents = file.read()\n",
        "    print(contents)"
      ],
      "metadata": {
        "colab": {
          "base_uri": "https://localhost:8080/"
        },
        "id": "Z0_AZdaIv4-I",
        "outputId": "09dc2dd3-3aeb-4976-c609-ec6d5309a566"
      },
      "execution_count": 101,
      "outputs": [
        {
          "output_type": "stream",
          "name": "stdout",
          "text": [
            "Hello, world!\n",
            "This is my 1st line.\n",
            "\n"
          ]
        }
      ]
    },
    {
      "cell_type": "code",
      "source": [
        "# 21. Write a Python program that reads a file and prints the number of occurrences of a specific word.\n",
        "\n",
        "def count_word_occurrences(filename, word):\n",
        "  count = 0\n",
        "  try:\n",
        "        with open(filename, 'r') as file:\n",
        "            for line in file:\n",
        "                words = line.lower().split()  # Convert to lowercase and split into words\n",
        "                count += words.count(word.lower())  # Count occurrences in the line\n",
        "  except FileNotFoundError:\n",
        "      print(f\"Error: File '{filename}' not found.\")\n",
        "  return count\n",
        "\n",
        "\n",
        "filename = input(\"Enter the filename: \")\n",
        "word = input(\"Enter the word to count: \")\n",
        "occurrences = count_word_occurrences(filename, word)\n",
        "print(f\"The word '{word}' appears {occurrences} times in the file.\")\n",
        "\n"
      ],
      "metadata": {
        "colab": {
          "base_uri": "https://localhost:8080/"
        },
        "id": "_8-NTNWKyvB6",
        "outputId": "8a2cd4f7-49d3-4062-fb62-a5244ea91b42"
      },
      "execution_count": 115,
      "outputs": [
        {
          "output_type": "stream",
          "name": "stdout",
          "text": [
            "Enter the filename: example2.txt\n",
            "Enter the word to count: is\n",
            "The word 'is' appears 3 times in the file.\n"
          ]
        }
      ]
    },
    {
      "cell_type": "code",
      "source": [
        "# 22. How can you check if a file is empty before attempting to read its contents\n",
        "\n",
        "import os\n",
        "\n",
        "os.path.getsize('example3.txt')\n",
        "\n",
        "# it is showing there are some contents in the file"
      ],
      "metadata": {
        "colab": {
          "base_uri": "https://localhost:8080/"
        },
        "id": "qRgoPQb30p0j",
        "outputId": "453bf1ab-7b88-44c1-8cc2-e927ae2ca7dc"
      },
      "execution_count": 117,
      "outputs": [
        {
          "output_type": "execute_result",
          "data": {
            "text/plain": [
              "35"
            ]
          },
          "metadata": {},
          "execution_count": 117
        }
      ]
    },
    {
      "cell_type": "code",
      "source": [
        "file=open(\"test1.txt\",\"w\")\n",
        "file.close()\n",
        "\n",
        "\n",
        "os.path.getsize('test1.txt')\n",
        "\n",
        "# it is showing 0 because there is contents is the file"
      ],
      "metadata": {
        "colab": {
          "base_uri": "https://localhost:8080/"
        },
        "id": "yiDAlnWf4T0f",
        "outputId": "e088751c-ee5c-40be-e386-18ffd97a8b4b"
      },
      "execution_count": 120,
      "outputs": [
        {
          "output_type": "execute_result",
          "data": {
            "text/plain": [
              "0"
            ]
          },
          "metadata": {},
          "execution_count": 120
        }
      ]
    },
    {
      "cell_type": "code",
      "source": [
        "# 23.  Write a Python program that writes to a log file when an error occurs during file handling\n",
        "\n",
        "import logging\n",
        "\n",
        "logging.basicConfig(filename='file_handling_errors.log', level=logging.ERROR,\n",
        "                    format='%(asctime)s - %(levelname)s - %(message)s')\n",
        "\n",
        "\n",
        "def read_file(filename):\n",
        "    try:\n",
        "        with open(filename, 'r') as file:\n",
        "            contents = file.read()\n",
        "            print(\"File contents:\", contents)\n",
        "    except FileNotFoundError:\n",
        "        logging.error(f\"Error: File '{filename}' not found.\")\n",
        "    except IOError:\n",
        "        logging.error(f\"Error: An I/O error occurred while reading '{filename}'.\")\n",
        "    except Exception as e:\n",
        "        logging.exception(f\"An unexpected error occurred: {e}\")\n"
      ],
      "metadata": {
        "id": "pYV2vviD43tV"
      },
      "execution_count": 121,
      "outputs": []
    },
    {
      "cell_type": "code",
      "source": [
        "filename = \"my_file.txt\"\n",
        "read_file(filename)"
      ],
      "metadata": {
        "colab": {
          "base_uri": "https://localhost:8080/"
        },
        "id": "2uDZPZ9c6LOW",
        "outputId": "4b8b2b65-9f5e-4868-ff5d-9d37c76496a2"
      },
      "execution_count": 122,
      "outputs": [
        {
          "output_type": "stream",
          "name": "stderr",
          "text": [
            "ERROR:root:Error: File 'my_file.txt' not found.\n"
          ]
        }
      ]
    },
    {
      "cell_type": "code",
      "source": [
        "filename = \"example2.txt\"\n",
        "read_file(filename)\n"
      ],
      "metadata": {
        "colab": {
          "base_uri": "https://localhost:8080/"
        },
        "id": "u3mBjqJL6Rq1",
        "outputId": "72c12147-d398-4137-a80e-a1e0fcbf56cd"
      },
      "execution_count": 124,
      "outputs": [
        {
          "output_type": "stream",
          "name": "stdout",
          "text": [
            "File contents: Hello! my name is Dipanjan Dutta. \n",
            " I am living in Dankuni WestBengal. \n",
            " My age is 24.\n",
            "This is appended text.\n",
            "\n"
          ]
        }
      ]
    },
    {
      "cell_type": "code",
      "source": [
        "filename = \"example.txt\"\n",
        "read_file(filename)"
      ],
      "metadata": {
        "colab": {
          "base_uri": "https://localhost:8080/"
        },
        "id": "NH7Qlww76XyX",
        "outputId": "381c7353-f644-4682-a4ec-fcc92e01b0fe"
      },
      "execution_count": 125,
      "outputs": [
        {
          "output_type": "stream",
          "name": "stdout",
          "text": [
            "File contents: Hello! my name is Dipanjan Dutta. \n",
            " I am living in Dankuni WestBengal. \n",
            " My age is 24.\n",
            "\n"
          ]
        }
      ]
    },
    {
      "cell_type": "code",
      "source": [],
      "metadata": {
        "id": "0gUINpX46eb1"
      },
      "execution_count": null,
      "outputs": []
    }
  ]
}